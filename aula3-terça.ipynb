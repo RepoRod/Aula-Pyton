{
  "nbformat": 4,
  "nbformat_minor": 0,
  "metadata": {
    "colab": {
      "name": "Untitled1.ipynb",
      "version": "0.3.2",
      "provenance": [],
      "include_colab_link": true
    },
    "kernelspec": {
      "name": "python3",
      "display_name": "Python 3"
    }
  },
  "cells": [
    {
      "cell_type": "markdown",
      "metadata": {
        "id": "view-in-github",
        "colab_type": "text"
      },
      "source": [
        "<a href=\"https://colab.research.google.com/github/RodOlive/Aula-Pyton/blob/master/aula3-ter%C3%A7a.ipynb\" target=\"_parent\"><img src=\"https://colab.research.google.com/assets/colab-badge.svg\" alt=\"Open In Colab\"/></a>"
      ]
    },
    {
      "metadata": {
        "id": "lJwnoBdRdQvw",
        "colab_type": "code",
        "outputId": "57bec8cf-3f09-4322-9dd7-d107ffab79e0",
        "colab": {
          "base_uri": "https://localhost:8080/",
          "height": 416
        }
      },
      "cell_type": "code",
      "source": [
        "import requests\n",
        "import json\n",
        "\n",
        "lista = json.loads(requests.get(\"https://bit.ly/2RXuXsD\").text)\n",
        "\n",
        "texto = requests.get(\"https://bit.ly/2Cu73N6\").text\n",
        "print(texto)"
      ],
      "execution_count": 0,
      "outputs": [
        {
          "output_type": "stream",
          "text": [
            "Dear Partner,\n",
            "\n",
            "We are very excited to inform you that \n",
            "the Docker Partner Team will be hosting a \n",
            "dedicated Partner Event, right before the beginning \n",
            "of DockerCon Europe on Dec 3rd, 2018 in Barcelona. \n",
            "We are delighted to invite you! \n",
            "\n",
            "With most of our executive leaders on stage, \n",
            "we aim to deliver strong value to you by turning \n",
            "our partner strategy into reality.\n",
            "We will update you on the Docker Enterprise \n",
            "sales and technical messaging to equip you \n",
            "better addressing our numerous business opportunities \n",
            "and building further upon our successful engagement. \n",
            "\n",
            "Please save the date for the 2018 Docker Partner Day: \n",
            "December 3rd, from 12:00-17:00 in Barcelona, CCIB, \n",
            "Placa de Willy Brandt 11-14. More about the agenda \n",
            "under this link. We look forward to seeing you there. \n",
            "\n",
            "Thank you, \n",
            "Guy Martin, Director Channel and Alliances and the Docker Partner Team \n"
          ],
          "name": "stdout"
        }
      ]
    },
    {
      "metadata": {
        "id": "RB4HkaeMdkG4",
        "colab_type": "code",
        "colab": {}
      },
      "cell_type": "code",
      "source": [
        "palavras = texto.split()"
      ],
      "execution_count": 0,
      "outputs": []
    },
    {
      "metadata": {
        "id": "gUqLaaPtd2Bg",
        "colab_type": "code",
        "colab": {}
      },
      "cell_type": "code",
      "source": [
        "from collections import Counter\n",
        "\n",
        "contador = Counter(palavras)\n",
        "contador.most_common(5)\n",
        "\n",
        "import json\n",
        "\n",
        "lista = json.loads(requests.get(\"https://bit.ly/2RXuXsD\").text)\n",
        "print(lista)"
      ],
      "execution_count": 0,
      "outputs": []
    },
    {
      "metadata": {
        "id": "zfvsreqjkMu-",
        "colab_type": "code",
        "outputId": "262f28cf-2783-4fb1-c236-d736ce1d5c6d",
        "colab": {
          "base_uri": "https://localhost:8080/",
          "height": 52
        }
      },
      "cell_type": "code",
      "source": [
        "def contar_coisas (colecao):\n",
        "  if(type(colecao) == type(str)):\n",
        "    contador = Counter(colecao.split())\n",
        "  else:\n",
        "    contador = Counter(colecao)\n",
        "  print(contador.most_common(10))\n",
        "  \n",
        "contar_coisas(palavras)\n",
        "contar_coisas(lista)\n",
        "  "
      ],
      "execution_count": 0,
      "outputs": [
        {
          "output_type": "stream",
          "text": [
            "[('the', 7), ('to', 6), ('you', 5), ('We', 4), ('Docker', 4), ('Partner', 4), ('our', 4), ('and', 4), ('on', 3), ('are', 2)]\n",
            "[(14, 19), (26, 18), (89, 16), (2, 15), (93, 15), (7, 15), (80, 15), (52, 14), (83, 14), (82, 14)]\n"
          ],
          "name": "stdout"
        }
      ]
    }
  ]
}